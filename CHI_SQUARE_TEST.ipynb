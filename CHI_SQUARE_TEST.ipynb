{
 "cells": [
  {
   "cell_type": "code",
   "execution_count": 3,
   "id": "9c790bb1-9441-4cba-b357-527b15a923e3",
   "metadata": {},
   "outputs": [
    {
     "data": {
      "text/plain": [
       "'1.State the Hypotheses\\nNull Hypothesis (H₀): There is no association between device type and customer satisfaction.\\nAlternative Hypothesis (H₁): There is an association between device type and customer satisfaction.'"
      ]
     },
     "execution_count": 3,
     "metadata": {},
     "output_type": "execute_result"
    }
   ],
   "source": [
    "'''1.State the Hypotheses\n",
    "Null Hypothesis (H₀): There is no association between device type and customer satisfaction.\n",
    "Alternative Hypothesis (H₁): There is an association between device type and customer satisfaction.'''\n"
   ]
  },
  {
   "cell_type": "code",
   "execution_count": 2,
   "id": "f54bed16-2209-41d9-ae25-33dfac459d2c",
   "metadata": {},
   "outputs": [
    {
     "name": "stdout",
     "output_type": "stream",
     "text": [
      "Observed Frequencies:\n",
      "                   Very Satisfied  Satisfied  Neutral  Unsatisfied  \\\n",
      "Smart Thermostat              50         80       60           30   \n",
      "Smart Light                   70        100       90           50   \n",
      "\n",
      "                  Very Unsatisfied  \n",
      "Smart Thermostat                20  \n",
      "Smart Light                     50  \n",
      "\n",
      "Chi-Square Statistic: 5.6382\n",
      "Degrees of Freedom: 4\n",
      "Expected Frequencies:\n",
      "                   Very Satisfied  Satisfied  Neutral  Unsatisfied  \\\n",
      "Smart Thermostat            48.0       72.0     60.0         32.0   \n",
      "Smart Light                 72.0      108.0     90.0         48.0   \n",
      "\n",
      "                  Very Unsatisfied  \n",
      "Smart Thermostat              28.0  \n",
      "Smart Light                   42.0  \n"
     ]
    }
   ],
   "source": [
    "import pandas as pd\n",
    "from scipy.stats import chi2_contingency\n",
    "\n",
    "#  Correct data as per the assignment file\n",
    "data = [\n",
    "    [50, 80, 60, 30, 20],  # Smart Thermostat\n",
    "    [70, 100, 90, 50, 50]  # Smart Light\n",
    "]\n",
    "\n",
    "columns = [\"Very Satisfied\", \"Satisfied\", \"Neutral\", \"Unsatisfied\", \"Very Unsatisfied\"]\n",
    "index = [\"Smart Thermostat\", \"Smart Light\"]\n",
    "\n",
    "# Create observed frequency table\n",
    "observed = pd.DataFrame(data, columns=columns, index=index)\n",
    "\n",
    "# Perform Chi-Square Test\n",
    "chi2_stat, p, dof, expected = chi2_contingency(observed)\n",
    "\n",
    "# Print results\n",
    "print(\"Observed Frequencies:\\n\", observed)\n",
    "print(\"\\nChi-Square Statistic:\", round(chi2_stat, 4))\n",
    "print(\"Degrees of Freedom:\", dof)\n",
    "print(\"Expected Frequencies:\\n\", pd.DataFrame(expected, index=index, columns=columns))\n"
   ]
  },
  {
   "cell_type": "code",
   "execution_count": 4,
   "id": "9f0626f5-cbcc-470f-a129-9db3edee67a2",
   "metadata": {},
   "outputs": [
    {
     "name": "stdout",
     "output_type": "stream",
     "text": [
      "Critical Value at 0.05 significance level: 9.4877\n"
     ]
    }
   ],
   "source": [
    "from scipy.stats import chi2\n",
    "\n",
    "# Step 3: Determine the critical value\n",
    "alpha = 0.05\n",
    "dof = 4  # already calculated\n",
    "\n",
    "# Get critical value from chi-square distribution\n",
    "critical_value = chi2.ppf(1 - alpha, dof)\n",
    "print(\"Critical Value at 0.05 significance level:\", round(critical_value, 4))"
   ]
  },
  {
   "cell_type": "code",
   "execution_count": 5,
   "id": "755a3300-be6f-49f5-b2f1-3edace3b9faf",
   "metadata": {},
   "outputs": [
    {
     "name": "stdout",
     "output_type": "stream",
     "text": [
      "Chi-Square Statistic: 5.6382\n",
      "Critical Value: 9.4877\n",
      "Decision: Fail to reject the null hypothesis (H₀)\n",
      "Conclusion: There is no significant association between device type and customer satisfaction.\n"
     ]
    }
   ],
   "source": [
    "from scipy.stats import chi2\n",
    "\n",
    "# Chi-Square statistic (from step 2)\n",
    "chi2_stat =5.6382\n",
    "\n",
    "# Step 3: Critical value\n",
    "alpha = 0.05\n",
    "dof = 4\n",
    "critical_value = chi2.ppf(1 - alpha, dof)\n",
    "\n",
    "# Step 4: Make a decision\n",
    "print(\"Chi-Square Statistic:\", chi2_stat)\n",
    "print(\"Critical Value:\", round(critical_value, 4))\n",
    "\n",
    "if chi2_stat > critical_value:\n",
    "    print(\"Decision: Reject the null hypothesis (H₀)\")\n",
    "    print(\"Conclusion: There is a significant association between device type and customer satisfaction.\")\n",
    "else:\n",
    "    print(\"Decision: Fail to reject the null hypothesis (H₀)\")\n",
    "    print(\"Conclusion: There is no significant association between device type and customer satisfaction.\")\n"
   ]
  },
  {
   "cell_type": "code",
   "execution_count": null,
   "id": "d4eae752-e386-4ca1-8449-cfbcb5ae4c15",
   "metadata": {},
   "outputs": [],
   "source": []
  }
 ],
 "metadata": {
  "kernelspec": {
   "display_name": "Python [conda env:base] *",
   "language": "python",
   "name": "conda-base-py"
  },
  "language_info": {
   "codemirror_mode": {
    "name": "ipython",
    "version": 3
   },
   "file_extension": ".py",
   "mimetype": "text/x-python",
   "name": "python",
   "nbconvert_exporter": "python",
   "pygments_lexer": "ipython3",
   "version": "3.13.5"
  }
 },
 "nbformat": 4,
 "nbformat_minor": 5
}
