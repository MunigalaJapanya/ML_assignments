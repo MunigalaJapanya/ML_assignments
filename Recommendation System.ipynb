{
 "cells": [
  {
   "cell_type": "code",
   "execution_count": 9,
   "id": "fa690f05-f523-4999-be53-0f32498b4648",
   "metadata": {},
   "outputs": [
    {
     "data": {
      "text/plain": [
       "anime_id      0\n",
       "name          0\n",
       "genre        62\n",
       "type         25\n",
       "episodes      0\n",
       "rating      230\n",
       "members       0\n",
       "dtype: int64"
      ]
     },
     "execution_count": 9,
     "metadata": {},
     "output_type": "execute_result"
    }
   ],
   "source": [
    "import pandas as pd\n",
    "import numpy as np\n",
    "\n",
    "# Correct file path with filename\n",
    "file_path = \"D:\\\\Assignments questions\\\\Recommendation System\\\\anime.csv\"\n",
    "anime_df = pd.read_csv(file_path)\n",
    "\n",
    "anime_df.isnull().sum()\n",
    "\n"
   ]
  },
  {
   "cell_type": "code",
   "execution_count": 10,
   "id": "5779ad04-65d1-42fd-a313-75f7c0dedfd9",
   "metadata": {},
   "outputs": [
    {
     "name": "stdout",
     "output_type": "stream",
     "text": [
      "Missing values after cleaning:\n",
      "anime_id    0\n",
      "name        0\n",
      "genre       0\n",
      "type        0\n",
      "episodes    0\n",
      "rating      0\n",
      "members     0\n",
      "dtype: int64\n",
      "\n",
      "Episodes column type: float64\n",
      "\n",
      "Cleaned dataset preview:\n",
      "   anime_id                              name  \\\n",
      "0     32281                    Kimi no Na wa.   \n",
      "1      5114  Fullmetal Alchemist: Brotherhood   \n",
      "2     28977                          Gintama°   \n",
      "3      9253                       Steins;Gate   \n",
      "4      9969                     Gintama&#039;   \n",
      "\n",
      "                                               genre   type  episodes  rating  \\\n",
      "0               Drama, Romance, School, Supernatural  Movie       1.0    9.37   \n",
      "1  Action, Adventure, Drama, Fantasy, Magic, Mili...     TV      64.0    9.26   \n",
      "2  Action, Comedy, Historical, Parody, Samurai, S...     TV      51.0    9.25   \n",
      "3                                   Sci-Fi, Thriller     TV      24.0    9.17   \n",
      "4  Action, Comedy, Historical, Parody, Samurai, S...     TV      51.0    9.16   \n",
      "\n",
      "   members  \n",
      "0   200630  \n",
      "1   793665  \n",
      "2   114262  \n",
      "3   673572  \n",
      "4   151266  \n"
     ]
    }
   ],
   "source": [
    "# 1. Handle missing values\n",
    "anime_df['genre'] = anime_df['genre'].fillna(\"Unknown\")\n",
    "anime_df['type'] = anime_df['type'].fillna(\"Unknown\")\n",
    "anime_df['rating'] = anime_df['rating'].fillna(anime_df['rating'].mean())\n",
    "\n",
    "# 2. Convert episodes column to numeric\n",
    "anime_df['episodes'] = anime_df['episodes'].replace('Unknown', np.nan)\n",
    "anime_df['episodes'] = pd.to_numeric(anime_df['episodes'], errors='coerce')\n",
    "anime_df['episodes'] = anime_df['episodes'].fillna(anime_df['episodes'].median())\n",
    "\n",
    "# 3. Verify cleaning\n",
    "print(\"Missing values after cleaning:\")\n",
    "print(anime_df.isnull().sum())\n",
    "\n",
    "print(\"\\nEpisodes column type:\", anime_df['episodes'].dtype)\n",
    "print(\"\\nCleaned dataset preview:\")\n",
    "print(anime_df.head())"
   ]
  },
  {
   "cell_type": "code",
   "execution_count": 11,
   "id": "92033ef3-2c69-4345-8192-e63deda692e3",
   "metadata": {},
   "outputs": [
    {
     "name": "stdout",
     "output_type": "stream",
     "text": [
      "Final feature matrix shape: (12294, 53)\n",
      "   Action  Adventure  Cars  Comedy  Dementia  Demons  Drama  Ecchi  Fantasy  \\\n",
      "0       0          0     0       0         0       0      1      0        0   \n",
      "1       1          1     0       0         0       0      1      0        1   \n",
      "2       1          0     0       1         0       0      0      0        0   \n",
      "3       0          0     0       0         0       0      0      0        0   \n",
      "4       1          0     0       1         0       0      0      0        0   \n",
      "\n",
      "   Game  ...  Yuri  type_Movie  type_Music  type_ONA  type_OVA  type_Special  \\\n",
      "0     0  ...     0        True       False     False     False         False   \n",
      "1     0  ...     0       False       False     False     False         False   \n",
      "2     0  ...     0       False       False     False     False         False   \n",
      "3     0  ...     0       False       False     False     False         False   \n",
      "4     0  ...     0       False       False     False     False         False   \n",
      "\n",
      "   type_TV  type_Unknown    rating   members  \n",
      "0    False         False  0.924370  0.197872  \n",
      "1     True         False  0.911164  0.782770  \n",
      "2     True         False  0.909964  0.112689  \n",
      "3     True         False  0.900360  0.664325  \n",
      "4     True         False  0.899160  0.149186  \n",
      "\n",
      "[5 rows x 53 columns]\n"
     ]
    }
   ],
   "source": [
    "from sklearn.preprocessing import MultiLabelBinarizer, MinMaxScaler\n",
    "\n",
    "# ---- 1. Handle genres ----\n",
    "# Split genres into list\n",
    "anime_df['genre'] = anime_df['genre'].apply(lambda x: x.split(\", \") if isinstance(x, str) else [])\n",
    "\n",
    "mlb = MultiLabelBinarizer()\n",
    "genre_encoded = pd.DataFrame(mlb.fit_transform(anime_df['genre']), columns=mlb.classes_, index=anime_df.index)\n",
    "\n",
    "# ---- 2. Handle type (optional) ----\n",
    "type_encoded = pd.get_dummies(anime_df['type'], prefix=\"type\")\n",
    "\n",
    "# ---- 3. Normalize numerical features ----\n",
    "scaler = MinMaxScaler()\n",
    "numeric_scaled = scaler.fit_transform(anime_df[['rating','members']])\n",
    "numeric_df = pd.DataFrame(numeric_scaled, columns=['rating','members'], index=anime_df.index)\n",
    "\n",
    "# ---- 4. Combine all features ----\n",
    "features_df = pd.concat([genre_encoded, type_encoded, numeric_df], axis=1)\n",
    "\n",
    "print(\"Final feature matrix shape:\", features_df.shape)\n",
    "print(features_df.head())\n"
   ]
  },
  {
   "cell_type": "code",
   "execution_count": 16,
   "id": "86bc6bdf-7743-4f50-a261-b781645240c0",
   "metadata": {},
   "outputs": [
    {
     "name": "stdout",
     "output_type": "stream",
     "text": [
      "[('Naruto: Shippuuden', np.float64(0.998)), ('Katekyo Hitman Reborn!', np.float64(0.912)), ('Dragon Ball Z', np.float64(0.873)), ('Bleach', np.float64(0.856)), ('Dragon Ball Kai', np.float64(0.856))]\n"
     ]
    }
   ],
   "source": [
    "from sklearn.metrics.pairwise import cosine_similarity\n",
    "\n",
    "# Compute cosine similarity matrix\n",
    "cosine_sim = cosine_similarity(features_df)\n",
    "\n",
    "def recommend_anime(title, n=5):\n",
    "    # Check if anime exists\n",
    "    if title not in anime_df['name'].values:\n",
    "        return f\"Anime '{title}' not found.\"\n",
    "\n",
    "    # Find index of given anime\n",
    "    idx = anime_df[anime_df['name'] == title].index[0]\n",
    "\n",
    "    # Get similarity scores (with index)\n",
    "    scores = list(enumerate(cosine_sim[idx]))\n",
    "\n",
    "    # Sort by similarity (skip itself at index 0)\n",
    "    scores = sorted(scores, key=lambda x: x[1], reverse=True)[1:n+1]\n",
    "\n",
    "    # Collect recommendations\n",
    "    result = [(anime_df.iloc[i]['name'], round(score, 3)) for i, score in scores]\n",
    "\n",
    "    return result\n",
    "\n",
    "# Example usage\n",
    "print(recommend_anime(\"Naruto\", n=5))\n"
   ]
  },
  {
   "cell_type": "code",
   "execution_count": 17,
   "id": "0a9a7ebc-f33a-4c00-83a2-53fe73c12c63",
   "metadata": {},
   "outputs": [
    {
     "name": "stdout",
     "output_type": "stream",
     "text": [
      "Training set size: 9835\n",
      "Testing set size: 2459\n"
     ]
    }
   ],
   "source": [
    "from sklearn.model_selection import train_test_split\n",
    "\n",
    "train_df, test_df = train_test_split(anime_df, test_size=0.2, random_state=42)\n",
    "print(\"Training set size:\", len(train_df))\n",
    "print(\"Testing set size:\", len(test_df))\n"
   ]
  },
  {
   "cell_type": "code",
   "execution_count": 19,
   "id": "45d7c018-b69a-4779-8ff3-7d1d22e4eae0",
   "metadata": {},
   "outputs": [
    {
     "name": "stdout",
     "output_type": "stream",
     "text": [
      "Precision: 1.00, Recall: 1.00, F1-score: 1.00\n"
     ]
    }
   ],
   "source": [
    "from sklearn.metrics import precision_score, recall_score, f1_score\n",
    "\n",
    "def evaluate_recommender(test_df, n=5, sample_size=50):\n",
    "    y_true, y_pred = [], []\n",
    "\n",
    "    # Sample some test anime (not too many for speed)\n",
    "    for title in test_df['name'].sample(sample_size, random_state=42):\n",
    "        recs = recommend_anime(title, n=n)   # our recommender\n",
    "        rec_titles = [r[0] for r in recs]\n",
    "\n",
    "        # True relevant = anime sharing at least 1 genre\n",
    "        target_genres = set(anime_df.loc[anime_df['name'] == title, 'genre'].values[0])\n",
    "        true_relevant = anime_df[anime_df['genre'].apply(lambda g: len(set(g) & target_genres) > 0)]['name'].values\n",
    "\n",
    "        # Build binary relevance vectors\n",
    "        y_true_row = [1 if anime in true_relevant else 0 for anime in rec_titles]\n",
    "        y_pred_row = [1] * len(rec_titles)   # all recs are predicted relevant\n",
    "\n",
    "        y_true.extend(y_true_row)\n",
    "        y_pred.extend(y_pred_row)\n",
    "\n",
    "    # Compute metrics\n",
    "    precision = precision_score(y_true, y_pred, zero_division=0)\n",
    "    recall = recall_score(y_true, y_pred, zero_division=0)\n",
    "    f1 = f1_score(y_true, y_pred, zero_division=0)\n",
    "\n",
    "    return precision, recall, f1\n",
    "\n",
    "precision, recall, f1 = evaluate_recommender(test_df, n=5)\n",
    "print(f\"Precision: {precision:.2f}, Recall: {recall:.2f}, F1-score: {f1:.2f}\")\n"
   ]
  },
  {
   "cell_type": "code",
   "execution_count": 20,
   "id": "c71b6258-b1a8-4cea-bbe8-3b0e45e850f8",
   "metadata": {},
   "outputs": [
    {
     "data": {
      "text/plain": [
       "'User-based CF → Finds users who are similar to you, then recommends items they liked.\\nExample: If User A and User B have similar tastes, recommend to A what B liked.\\nItem-based CF → Finds items similar to the ones you liked, then recommends them.\\nExample: If you liked Naruto, recommend Bleach because people who liked Naruto also liked Bleach.'"
      ]
     },
     "execution_count": 20,
     "metadata": {},
     "output_type": "execute_result"
    }
   ],
   "source": [
    "'''1.User-based CF → Finds users who are similar to you, then recommends items they liked.\n",
    "Example: If User A and User B have similar tastes, recommend to A what B liked.\n",
    "Item-based CF → Finds items similar to the ones you liked, then recommends them.\n",
    "Example: If you liked Naruto, recommend Bleach because people who liked Naruto also liked Bleach.'''"
   ]
  },
  {
   "cell_type": "code",
   "execution_count": null,
   "id": "013b976c-e61a-4f05-87a5-6bdd8a3bd5bd",
   "metadata": {},
   "outputs": [],
   "source": [
    "'''2.Collaborative Filtering (CF) = Making recommendations based on the behavior of many users (ratings, clicks, purchases).\n",
    "It works by finding patterns of similarity between users or items → “people who are similar like similar things.”'''"
   ]
  }
 ],
 "metadata": {
  "kernelspec": {
   "display_name": "Python [conda env:base] *",
   "language": "python",
   "name": "conda-base-py"
  },
  "language_info": {
   "codemirror_mode": {
    "name": "ipython",
    "version": 3
   },
   "file_extension": ".py",
   "mimetype": "text/x-python",
   "name": "python",
   "nbconvert_exporter": "python",
   "pygments_lexer": "ipython3",
   "version": "3.13.5"
  }
 },
 "nbformat": 4,
 "nbformat_minor": 5
}
