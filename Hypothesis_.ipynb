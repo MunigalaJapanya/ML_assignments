{
 "cells": [
  {
   "cell_type": "code",
   "execution_count": 1,
   "id": "b3fe13ad-2ca9-4ff3-bb1d-c4000af64680",
   "metadata": {},
   "outputs": [
    {
     "data": {
      "text/plain": [
       "'\\nHypothesis Test\\n----------------\\nTest of hypothesis:\\nHypothesis testing is a statistical method that is used in making statistical decisions using experimental data.\\nHypothesis Testing is basically an assumption that we make about the population parameter.\\nWe are making a test and finding the results on population data by sample data only.\\n    \\nSteps:\\nHo: Null hypothesis ( what we believe generally)\\nH1: Alternative hypothesis (what we want to prove- which should be opposite statement for Null)\\n\\nExamaple : we are trying to test data is following Normal distribution or not?\\nHo: Data is following Normal distribution\\nH1: Data is not foNull Hypothesisllowing Normal distribution\\nNull Hypothesis Ho: The actual mean weekly cost is equal to Rs. 4000\\nHo:μ = 4000\\nAlternative Hypothesis H1: The actual mean weekly cost is greater than Rs. 4000\\nH1:The actual mean weekly cost is greater than Rs. 4000\\nH1: μ> 4000 (This is a right-tailed test)\\n'"
      ]
     },
     "execution_count": 1,
     "metadata": {},
     "output_type": "execute_result"
    }
   ],
   "source": [
    "'''\n",
    "Hypothesis Test\n",
    "----------------\n",
    "Test of hypothesis:\n",
    "Hypothesis testing is a statistical method that is used in making statistical decisions using experimental data.\n",
    "Hypothesis Testing is basically an assumption that we make about the population parameter.\n",
    "We are making a test and finding the results on population data by sample data only.\n",
    "    \n",
    "Steps:\n",
    "Ho: Null hypothesis ( what we believe generally)\n",
    "H1: Alternative hypothesis (what we want to prove- which should be opposite statement for Null)\n",
    "\n",
    "Examaple : we are trying to test data is following Normal distribution or not?\n",
    "Ho: Data is following Normal distribution\n",
    "H1: Data is not foNull Hypothesisllowing Normal distribution\n",
    "Null Hypothesis Ho: The actual mean weekly cost is equal to Rs. 4000\n",
    "Ho:μ = 4000\n",
    "Alternative Hypothesis H1: The actual mean weekly cost is greater than Rs. 4000\n",
    "H1:The actual mean weekly cost is greater than Rs. 4000\n",
    "H1: μ> 4000 (This is a right-tailed test)\n",
    "'''"
   ]
  },
  {
   "cell_type": "code",
   "execution_count": 2,
   "id": "02003723-ae57-4e85-bcc0-5c55025c31e0",
   "metadata": {},
   "outputs": [
    {
     "name": "stdout",
     "output_type": "stream",
     "text": [
      "Test Statistic (z): -38.00\n"
     ]
    }
   ],
   "source": [
    "# 2. Calculate the Test Statistic:\n",
    "import math\n",
    "\n",
    "# Given values\n",
    "sample_mean = 3050          # x̄\n",
    "theoretical_mean = 1000 + 5 * 600  # μ = 1000 + 5*600 = 4000\n",
    "std_dev = 5 * 25            # σ = 5 * σ_x = 125\n",
    "n = 25                     # sample size\n",
    "\n",
    "# Calculate z-statistic\n",
    "z = (sample_mean - theoretical_mean) / (std_dev / math.sqrt(n))\n",
    "\n",
    "print(f\"Test Statistic (z): {z:.2f}\")\n",
    "\n"
   ]
  },
  {
   "cell_type": "code",
   "execution_count": 3,
   "id": "b9ca73b7-3248-42ca-a983-c323176bbc96",
   "metadata": {},
   "outputs": [
    {
     "name": "stdout",
     "output_type": "stream",
     "text": [
      "Critical z-value at α = 0.05 (right-tailed): 1.645\n"
     ]
    }
   ],
   "source": [
    "# Significance level α = 0.05\n",
    "# It’s a right-tailed test (since the alternative hypothesis is μ > 4000)\n",
    "# distribution used: Standard Normal (Z) distribution\n",
    "\n",
    "from scipy.stats import norm\n",
    "\n",
    "alpha = 0.05\n",
    "z_critical = norm.ppf(1 - alpha)\n",
    "print(f\"Critical z-value at α = 0.05 (right-tailed): {z_critical:.3f}\")"
   ]
  },
  {
   "cell_type": "code",
   "execution_count": 5,
   "id": "227e9b54-809c-4f87-abe8-8468aec37f66",
   "metadata": {},
   "outputs": [
    {
     "name": "stdout",
     "output_type": "stream",
     "text": [
      "Reject the null hypothesis: Evidence suggests the actual cost is significantly lower than the model.\n"
     ]
    }
   ],
   "source": [
    "from scipy.stats import norm\n",
    "\n",
    "# Given test statistic from earlier step\n",
    "z_stat = -38  # This would have been calculated in step 2\n",
    "\n",
    "# Critical value for alpha = 0.05 (left-tailed test)\n",
    "z_critical = norm.ppf(0.05)\n",
    "\n",
    "# Decision\n",
    "if z_stat < z_critical:\n",
    "    print(\"Reject the null hypothesis: Evidence suggests the actual cost is significantly lower than the model.\")\n",
    "else:\n",
    "    print(\"Fail to reject the null hypothesis: No strong evidence the actual cost is different from the model.\")\n"
   ]
  },
  {
   "cell_type": "code",
   "execution_count": 6,
   "id": "975907ca-9b91-4b0c-bedd-b6ea04c86611",
   "metadata": {},
   "outputs": [
    {
     "data": {
      "text/plain": [
       "\"Based on the decision in Step 4, we rejected the null hypothesis. However, it's important to note:\\nThe sample mean weekly cost (Rs. 3,050) is lower than the theoretical cost (Rs. 4,000).\\nThis suggests the actual operating costs are lower, not higher.\\nThere is no strong evidence to support the restaurant owners' claim that the weekly operating costs are higher than the model suggests.\""
      ]
     },
     "execution_count": 6,
     "metadata": {},
     "output_type": "execute_result"
    }
   ],
   "source": [
    "#Conculsion:\n",
    "'''Based on the decision in Step 4, we rejected the null hypothesis. However, it's important to note:\n",
    "The sample mean weekly cost (Rs. 3,050) is lower than the theoretical cost (Rs. 4,000).\n",
    "This suggests the actual operating costs are lower, not higher.\n",
    "There is no strong evidence to support the restaurant owners' claim that the weekly operating costs are higher than the model suggests.'''\n"
   ]
  },
  {
   "cell_type": "code",
   "execution_count": null,
   "id": "4fb44d7b-4c56-4b59-bdff-b59def4ba469",
   "metadata": {},
   "outputs": [],
   "source": []
  }
 ],
 "metadata": {
  "kernelspec": {
   "display_name": "Python [conda env:base] *",
   "language": "python",
   "name": "conda-base-py"
  },
  "language_info": {
   "codemirror_mode": {
    "name": "ipython",
    "version": 3
   },
   "file_extension": ".py",
   "mimetype": "text/x-python",
   "name": "python",
   "nbconvert_exporter": "python",
   "pygments_lexer": "ipython3",
   "version": "3.13.5"
  }
 },
 "nbformat": 4,
 "nbformat_minor": 5
}
