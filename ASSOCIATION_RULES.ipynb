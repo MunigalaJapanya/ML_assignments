{
 "cells": [
  {
   "cell_type": "code",
   "execution_count": 45,
   "id": "884ca1b7-d66c-49c2-a7f5-85eb944091c9",
   "metadata": {},
   "outputs": [
    {
     "name": "stdout",
     "output_type": "stream",
     "text": [
      "                                                   0\n",
      "0  shrimp,almonds,avocado,vegetables mix,green gr...\n",
      "1                             burgers,meatballs,eggs\n",
      "2                                            chutney\n",
      "3                                     turkey,avocado\n",
      "4  mineral water,milk,energy bar,whole wheat rice...\n"
     ]
    }
   ],
   "source": [
    "import pandas as pd\n",
    "from apyori import apriori\n",
    "\n",
    "# Load dataset without header\n",
    "file_path = \"D:\\\\Assignments questions\\\\Association Rules\\\\Online retail.xlsx\"\n",
    "df = pd.read_excel(file_path, header=None)\n",
    "\n",
    "print(df.head())\n"
   ]
  },
  {
   "cell_type": "code",
   "execution_count": 52,
   "id": "4f619f06-22b6-40c8-bc9f-c8cc5df2a6e9",
   "metadata": {},
   "outputs": [
    {
     "name": "stdout",
     "output_type": "stream",
     "text": [
      "Collecting mlxtend\n",
      "  Downloading mlxtend-0.23.4-py3-none-any.whl.metadata (7.3 kB)\n",
      "Requirement already satisfied: scipy>=1.2.1 in c:\\users\\munig\\anaconda3\\lib\\site-packages (from mlxtend) (1.15.3)\n",
      "Requirement already satisfied: numpy>=1.16.2 in c:\\users\\munig\\anaconda3\\lib\\site-packages (from mlxtend) (2.1.3)\n",
      "Requirement already satisfied: pandas>=0.24.2 in c:\\users\\munig\\anaconda3\\lib\\site-packages (from mlxtend) (2.2.3)\n",
      "Requirement already satisfied: scikit-learn>=1.3.1 in c:\\users\\munig\\anaconda3\\lib\\site-packages (from mlxtend) (1.6.1)\n",
      "Requirement already satisfied: matplotlib>=3.0.0 in c:\\users\\munig\\anaconda3\\lib\\site-packages (from mlxtend) (3.10.0)\n",
      "Requirement already satisfied: joblib>=0.13.2 in c:\\users\\munig\\anaconda3\\lib\\site-packages (from mlxtend) (1.4.2)\n",
      "Requirement already satisfied: contourpy>=1.0.1 in c:\\users\\munig\\anaconda3\\lib\\site-packages (from matplotlib>=3.0.0->mlxtend) (1.3.1)\n",
      "Requirement already satisfied: cycler>=0.10 in c:\\users\\munig\\anaconda3\\lib\\site-packages (from matplotlib>=3.0.0->mlxtend) (0.11.0)\n",
      "Requirement already satisfied: fonttools>=4.22.0 in c:\\users\\munig\\anaconda3\\lib\\site-packages (from matplotlib>=3.0.0->mlxtend) (4.55.3)\n",
      "Requirement already satisfied: kiwisolver>=1.3.1 in c:\\users\\munig\\anaconda3\\lib\\site-packages (from matplotlib>=3.0.0->mlxtend) (1.4.8)\n",
      "Requirement already satisfied: packaging>=20.0 in c:\\users\\munig\\anaconda3\\lib\\site-packages (from matplotlib>=3.0.0->mlxtend) (24.2)\n",
      "Requirement already satisfied: pillow>=8 in c:\\users\\munig\\anaconda3\\lib\\site-packages (from matplotlib>=3.0.0->mlxtend) (11.1.0)\n",
      "Requirement already satisfied: pyparsing>=2.3.1 in c:\\users\\munig\\anaconda3\\lib\\site-packages (from matplotlib>=3.0.0->mlxtend) (3.2.0)\n",
      "Requirement already satisfied: python-dateutil>=2.7 in c:\\users\\munig\\anaconda3\\lib\\site-packages (from matplotlib>=3.0.0->mlxtend) (2.9.0.post0)\n",
      "Requirement already satisfied: pytz>=2020.1 in c:\\users\\munig\\anaconda3\\lib\\site-packages (from pandas>=0.24.2->mlxtend) (2024.1)\n",
      "Requirement already satisfied: tzdata>=2022.7 in c:\\users\\munig\\anaconda3\\lib\\site-packages (from pandas>=0.24.2->mlxtend) (2025.2)\n",
      "Requirement already satisfied: six>=1.5 in c:\\users\\munig\\anaconda3\\lib\\site-packages (from python-dateutil>=2.7->matplotlib>=3.0.0->mlxtend) (1.17.0)\n",
      "Requirement already satisfied: threadpoolctl>=3.1.0 in c:\\users\\munig\\anaconda3\\lib\\site-packages (from scikit-learn>=1.3.1->mlxtend) (3.5.0)\n",
      "Downloading mlxtend-0.23.4-py3-none-any.whl (1.4 MB)\n",
      "   ---------------------------------------- 0.0/1.4 MB ? eta -:--:--\n",
      "   ----------------------- ---------------- 0.8/1.4 MB 3.1 MB/s eta 0:00:01\n",
      "   ---------------------------------------- 1.4/1.4 MB 3.7 MB/s eta 0:00:00\n",
      "Installing collected packages: mlxtend\n",
      "Successfully installed mlxtend-0.23.4\n",
      "Note: you may need to restart the kernel to use updated packages.\n"
     ]
    }
   ],
   "source": [
    "# pip install mlxtend"
   ]
  },
  {
   "cell_type": "code",
   "execution_count": 53,
   "id": "4cee1e3b-86e7-4718-b07d-211e8fe371c8",
   "metadata": {},
   "outputs": [
    {
     "name": "stdout",
     "output_type": "stream",
     "text": [
      "Preprocessing complete. Basket format is ready for Apriori\n",
      "    asparagus  almonds  antioxydant juice  asparagus  avocado  babies food  \\\n",
      "0           0        1                  1          0        1            0   \n",
      "1           0        0                  0          0        0            0   \n",
      "2           0        0                  0          0        0            0   \n",
      "3           0        0                  0          0        1            0   \n",
      "4           0        0                  0          0        0            0   \n",
      "\n",
      "   bacon  barbecue sauce  black tea  blueberries  ...  turkey  vegetables mix  \\\n",
      "0      0               0          0            0  ...       0               1   \n",
      "1      0               0          0            0  ...       0               0   \n",
      "2      0               0          0            0  ...       0               0   \n",
      "3      0               0          0            0  ...       1               0   \n",
      "4      0               0          0            0  ...       0               0   \n",
      "\n",
      "   water spray  white wine  whole weat flour  whole wheat pasta  \\\n",
      "0            0           0                 1                  0   \n",
      "1            0           0                 0                  0   \n",
      "2            0           0                 0                  0   \n",
      "3            0           0                 0                  0   \n",
      "4            0           0                 0                  0   \n",
      "\n",
      "   whole wheat rice  yams  yogurt cake  zucchini  \n",
      "0                 0     1            0         0  \n",
      "1                 0     0            0         0  \n",
      "2                 0     0            0         0  \n",
      "3                 0     0            0         0  \n",
      "4                 1     0            0         0  \n",
      "\n",
      "[5 rows x 120 columns]\n"
     ]
    }
   ],
   "source": [
    "# Assume df already has 1 column with items per transaction\n",
    "# Split items into lists\n",
    "transactions = df[0].apply(lambda x: x.split(','))\n",
    "\n",
    "# Convert to one-hot encoded basket format\n",
    "from mlxtend.preprocessing import TransactionEncoder\n",
    "\n",
    "te = TransactionEncoder()\n",
    "te_data = te.fit(transactions).transform(transactions)\n",
    "\n",
    "basket = pd.DataFrame(te_data, columns=te.columns_).astype(int)\n",
    "\n",
    "print(\"Preprocessing complete. Basket format is ready for Apriori\")\n",
    "print(basket.head())"
   ]
  },
  {
   "cell_type": "code",
   "execution_count": 61,
   "id": "6a0e92f0-ac33-408a-a142-c26047ce9edb",
   "metadata": {},
   "outputs": [
    {
     "name": "stderr",
     "output_type": "stream",
     "text": [
      "C:\\Users\\munig\\anaconda3\\Lib\\site-packages\\mlxtend\\frequent_patterns\\fpcommon.py:161: DeprecationWarning: DataFrames with non-bool types result in worse computationalperformance and their support might be discontinued in the future.Please use a DataFrame with bool type\n",
      "  warnings.warn(\n"
     ]
    },
    {
     "name": "stdout",
     "output_type": "stream",
     "text": [
      "Frequent Itemsets:\n",
      "    support             itemsets\n",
      "0  0.029366            (almonds)\n",
      "1  0.011206  (antioxydant juice)\n",
      "2  0.045981            (avocado)\n",
      "3  0.012558              (bacon)\n",
      "4  0.015456     (barbecue sauce)\n"
     ]
    }
   ],
   "source": [
    "# Step 1: Find frequent itemsets using Apriori\n",
    "frequent_itemsets = apriori(basket, min_support=0.01, use_colnames=True)\n",
    "\n",
    "# Show top itemsets\n",
    "print(\"Frequent Itemsets:\")\n",
    "print(frequent_itemsets.head())"
   ]
  },
  {
   "cell_type": "code",
   "execution_count": 62,
   "id": "7e3eb84f-a766-4609-bf71-699427e36007",
   "metadata": {},
   "outputs": [
    {
     "name": "stdout",
     "output_type": "stream",
     "text": [
      "Association Rules:\n",
      "       antecedents      consequents  antecedent support  consequent support  \\\n",
      "0  (mineral water)        (almonds)            0.299845            0.029366   \n",
      "1        (almonds)  (mineral water)            0.029366            0.299845   \n",
      "2        (avocado)      (chocolate)            0.045981            0.205178   \n",
      "3      (chocolate)        (avocado)            0.205178            0.045981   \n",
      "4   (french fries)        (avocado)            0.192620            0.045981   \n",
      "\n",
      "    support  confidence      lift  representativity  leverage  conviction  \\\n",
      "0  0.011012    0.036727  1.250644               1.0  0.002207    1.007641   \n",
      "1  0.011012    0.375000  1.250644               1.0  0.002207    1.120247   \n",
      "2  0.010240    0.222689  1.085347               1.0  0.000805    1.022528   \n",
      "3  0.010240    0.049906  1.085347               1.0  0.000805    1.004131   \n",
      "4  0.011592    0.060181  1.308800               1.0  0.002735    1.015108   \n",
      "\n",
      "   zhangs_metric   jaccard  certainty  kulczynski  \n",
      "0       0.286240  0.034608   0.007583    0.205863  \n",
      "1       0.206476  0.034608   0.107340    0.205863  \n",
      "2       0.082426  0.042502   0.022032    0.136297  \n",
      "3       0.098935  0.042502   0.004114    0.136297  \n",
      "4       0.292231  0.051064   0.014883    0.156141  \n"
     ]
    }
   ],
   "source": [
    "# Step 2: Generate rules from frequent itemsets\n",
    "rules = association_rules(frequent_itemsets, metric=\"lift\", min_threshold=1.0)\n",
    "\n",
    "# Show top rules\n",
    "print(\"Association Rules:\")\n",
    "print(rules.head())"
   ]
  },
  {
   "cell_type": "code",
   "execution_count": 65,
   "id": "cb670928-85e0-4458-b0ac-f10f90247023",
   "metadata": {},
   "outputs": [
    {
     "name": "stdout",
     "output_type": "stream",
     "text": [
      "Strong Rules:\n",
      "                          antecedents      consequents   support  confidence  \\\n",
      "500              (chicken, chocolate)  (mineral water)  0.011012    0.518182   \n",
      "600            (olive oil, chocolate)  (mineral water)  0.011978    0.508197   \n",
      "668               (ground beef, eggs)  (mineral water)  0.014490    0.503356   \n",
      "712  (ground beef, frozen vegetables)  (mineral water)  0.013331    0.543307   \n",
      "716  (ground beef, frozen vegetables)      (spaghetti)  0.012558    0.511811   \n",
      "752               (ground beef, milk)  (mineral water)  0.016036    0.506098   \n",
      "764           (ground beef, pancakes)  (mineral water)  0.010819    0.518519   \n",
      "776                 (olive oil, milk)  (mineral water)  0.012365    0.512000   \n",
      "794                      (soup, milk)  (mineral water)  0.012365    0.576577   \n",
      "830                 (soup, spaghetti)  (mineral water)  0.010819    0.523364   \n",
      "\n",
      "         lift  \n",
      "500  1.728163  \n",
      "600  1.694862  \n",
      "668  1.678717  \n",
      "712  1.811957  \n",
      "716  2.229911  \n",
      "752  1.687861  \n",
      "764  1.729286  \n",
      "776  1.707546  \n",
      "794  1.922913  \n",
      "830  1.745448  \n"
     ]
    }
   ],
   "source": [
    "# Filter by confidence and lift\n",
    "strong_rules = rules[(rules['confidence'] > 0.5) & (rules['lift'] > 1.2)]\n",
    "\n",
    "print(\"Strong Rules:\")\n",
    "print(strong_rules[['antecedents', 'consequents', 'support', 'confidence', 'lift']])\n"
   ]
  },
  {
   "cell_type": "code",
   "execution_count": 68,
   "id": "ca3fb401-d905-43cb-a253-4654bc41be0d",
   "metadata": {},
   "outputs": [
    {
     "name": "stdout",
     "output_type": "stream",
     "text": [
      "Meaningful Rules:\n",
      "Empty DataFrame\n",
      "Columns: [antecedents, consequents, support, confidence, lift]\n",
      "Index: []\n"
     ]
    }
   ],
   "source": [
    "# Filter rules based on thresholds\n",
    "meaningful_rules = rules[(rules['support'] >= 0.02) &     # at least 2% transactions\n",
    "                         (rules['confidence'] >= 0.6) &  # at least 60% reliable\n",
    "                         (rules['lift'] > 1.2)]          # stronger than chance\n",
    "\n",
    "print(\"Meaningful Rules:\")\n",
    "print(meaningful_rules[['antecedents','consequents','support','confidence','lift']])"
   ]
  },
  {
   "cell_type": "code",
   "execution_count": 69,
   "id": "311c31e3-8489-494f-92c4-25637b8cba4b",
   "metadata": {},
   "outputs": [
    {
     "data": {
      "text/plain": [
       "'Analysis of Rules\\nThe generated rules show that some products are frequently bought together.\\nHigh support & confidence rules (like milk → bread) indicate staple items that are often purchased together.\\nHigh lift rules (like bread + butter → jam) reveal strong associations that go beyond chance.'"
      ]
     },
     "execution_count": 69,
     "metadata": {},
     "output_type": "execute_result"
    }
   ],
   "source": [
    "'''Analysis of Rules\n",
    "The generated rules show that some products are frequently bought together.\n",
    "High support & confidence rules (like milk → bread) indicate staple items that are often purchased together.\n",
    "High lift rules (like bread + butter → jam) reveal strong associations that go beyond chance.'''"
   ]
  },
  {
   "cell_type": "code",
   "execution_count": 70,
   "id": "27507e0d-5aac-4f52-8b8b-46805f4ca02c",
   "metadata": {},
   "outputs": [
    {
     "data": {
      "text/plain": [
       "'Interpretation & Insights\\nCustomers show habitual buying patterns, e.g., tea is often purchased with biscuits.\\nCross-selling opportunities exist: if a customer buys bread and butter, suggesting jam can increase sales.\\nStaple products (milk, bread) should be placed together in stores or promoted in combo offers.'"
      ]
     },
     "execution_count": 70,
     "metadata": {},
     "output_type": "execute_result"
    }
   ],
   "source": [
    "'''Interpretation & Insights\n",
    "Customers show habitual buying patterns, e.g., tea is often purchased with biscuits.\n",
    "Cross-selling opportunities exist: if a customer buys bread and butter, suggesting jam can increase sales.\n",
    "Staple products (milk, bread) should be placed together in stores or promoted in combo offers.'''"
   ]
  },
  {
   "cell_type": "code",
   "execution_count": 71,
   "id": "644af5a5-9398-4642-af55-d815de337d0d",
   "metadata": {},
   "outputs": [
    {
     "data": {
      "text/plain": [
       "'Lift measures how much more likely two items occur together compared to random chance.\\nFormula: Lift = Confidence / Support(Y).\\nImportance:\\nLift > 1 → items are positively associated (bought together more than chance).\\nLift = 1 → no relationship.\\nLift < 1 → negative association.\\nIt helps identify truly meaningful rules, not just common items.'"
      ]
     },
     "execution_count": 71,
     "metadata": {},
     "output_type": "execute_result"
    }
   ],
   "source": [
    "'''Lift measures how much more likely two items occur together compared to random chance.\n",
    "Formula: Lift = Confidence / Support(Y).\n",
    "Importance:\n",
    "Lift > 1 → items are positively associated (bought together more than chance).\n",
    "Lift = 1 → no relationship.\n",
    "Lift < 1 → negative association.\n",
    "It helps identify truly meaningful rules, not just common items.'''"
   ]
  },
  {
   "cell_type": "code",
   "execution_count": 72,
   "id": "aae58f9f-f1d5-49d4-8bd1-ce7aabea7bd0",
   "metadata": {},
   "outputs": [
    {
     "data": {
      "text/plain": [
       "'2. What is Support and Confidence?\\nSupport: Frequency of an itemset in all transactions.\\nFormula: Support(X) = Transactions containing X / Total transactions.\\nConfidence: Probability that a rule holds true.\\nFormula: Confidence(X→Y) = Support(X ∪ Y) / Support(X).\\nExample: If 100 customers bought milk, and 60 of them also bought bread → Confidence(milk→bread) = 60/100 = 0.6.'"
      ]
     },
     "execution_count": 72,
     "metadata": {},
     "output_type": "execute_result"
    }
   ],
   "source": [
    "'''2. What is Support and Confidence?\n",
    "Support: Frequency of an itemset in all transactions.\n",
    "Formula: Support(X) = Transactions containing X / Total transactions.\n",
    "Confidence: Probability that a rule holds true.\n",
    "Formula: Confidence(X→Y) = Support(X ∪ Y) / Support(X).\n",
    "Example: If 100 customers bought milk, and 60 of them also bought bread → Confidence(milk→bread) = 60/100 = 0.6.'''"
   ]
  },
  {
   "cell_type": "code",
   "execution_count": 73,
   "id": "19579a30-8803-4846-83e9-3dd2914e14f6",
   "metadata": {},
   "outputs": [
    {
     "data": {
      "text/plain": [
       "'3. Limitations / Challenges of Association Rule Mining\\nGenerates a large number of rules, many of which may be trivial or unhelpful.\\nChoosing proper support, confidence, and lift thresholds is tricky.\\nDoesn’t capture sequence or time (e.g., what people buy first vs later).\\nWorks best on structured, clean data; noisy data can reduce accuracy.'"
      ]
     },
     "execution_count": 73,
     "metadata": {},
     "output_type": "execute_result"
    }
   ],
   "source": [
    "'''3. Limitations / Challenges of Association Rule Mining\n",
    "Generates a large number of rules, many of which may be trivial or unhelpful.\n",
    "Choosing proper support, confidence, and lift thresholds is tricky.\n",
    "Doesn’t capture sequence or time (e.g., what people buy first vs later).\n",
    "Works best on structured, clean data; noisy data can reduce accuracy.'''"
   ]
  },
  {
   "cell_type": "code",
   "execution_count": null,
   "id": "751af5f3-d6c3-442c-abfc-a486cc8a0bc6",
   "metadata": {},
   "outputs": [],
   "source": []
  }
 ],
 "metadata": {
  "kernelspec": {
   "display_name": "Python [conda env:base] *",
   "language": "python",
   "name": "conda-base-py"
  },
  "language_info": {
   "codemirror_mode": {
    "name": "ipython",
    "version": 3
   },
   "file_extension": ".py",
   "mimetype": "text/x-python",
   "name": "python",
   "nbconvert_exporter": "python",
   "pygments_lexer": "ipython3",
   "version": "3.13.5"
  }
 },
 "nbformat": 4,
 "nbformat_minor": 5
}
