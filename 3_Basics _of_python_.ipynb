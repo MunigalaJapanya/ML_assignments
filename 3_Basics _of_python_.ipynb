{
 "cells": [
  {
   "cell_type": "code",
   "execution_count": 21,
   "id": "c6a86233-7944-4a40-bd52-7479733fb019",
   "metadata": {},
   "outputs": [
    {
     "name": "stdin",
     "output_type": "stream",
     "text": [
      "Enter a number: 3\n"
     ]
    },
    {
     "name": "stdout",
     "output_type": "stream",
     "text": [
      "3 is a Prime number\n"
     ]
    }
   ],
   "source": [
    "# Exercise 1: Prime Numbers\n",
    "\n",
    "# Set count, prime number is divisible only with two numbers\n",
    "count = 0\n",
    "\n",
    "# Get user input as integer\n",
    "n = int(input(\"Enter a number:\"))\n",
    "\n",
    "# Through the loop check number is Divisible or not\n",
    "for i in range(1, n+1):\n",
    "     if n % i == 0:\n",
    "            count = count+1\n",
    "if count == 2:\n",
    "     print(n, \"is a Prime number\")\n",
    "else:\n",
    "     print(n, \"is Not a Prime number\")"
   ]
  },
  {
   "cell_type": "code",
   "execution_count": 22,
   "id": "5cc45ce6-72ab-4b49-96c3-710a3e6faff0",
   "metadata": {},
   "outputs": [
    {
     "name": "stdout",
     "output_type": "stream",
     "text": [
      "What is the product of  7  and  10\n"
     ]
    },
    {
     "name": "stdin",
     "output_type": "stream",
     "text": [
      "Your answer:  70\n"
     ]
    },
    {
     "name": "stdout",
     "output_type": "stream",
     "text": [
      "Correct!, You have done a great JOb answer is =  70\n"
     ]
    }
   ],
   "source": [
    "# Exercise 2: Product of Random Numbers\n",
    "\n",
    "import random\n",
    "num1 = random.randint(1, 10)\n",
    "num2 = random.randint(1, 10)\n",
    "product = num1*num2\n",
    "print('What is the product of ',num1 ,' and ',num2 )\n",
    "\n",
    "# Get user input as integer\n",
    "user_answer = int(input(\"Your answer: \"))\n",
    "\n",
    "if user_answer == product:\n",
    "    print('Correct!, You have done a great JOb answer is = ',product)\n",
    "else:\n",
    "     print('Sorry, ',user_answer ,'is wrong answer!! correct answer is =',product)"
   ]
  },
  {
   "cell_type": "code",
   "execution_count": 24,
   "id": "3c239151-3761-4ce9-b024-e221a2cb5062",
   "metadata": {},
   "outputs": [
    {
     "name": "stdin",
     "output_type": "stream",
     "text": [
      "Enter Even Or Odd to get squares :  Odd\n"
     ]
    },
    {
     "name": "stdout",
     "output_type": "stream",
     "text": [
      "Square of : 101 is 10201\n",
      "Square of : 103 is 10609\n",
      "Square of : 105 is 11025\n",
      "Square of : 107 is 11449\n",
      "Square of : 109 is 11881\n",
      "Square of : 111 is 12321\n",
      "Square of : 113 is 12769\n",
      "Square of : 115 is 13225\n",
      "Square of : 117 is 13689\n",
      "Square of : 119 is 14161\n",
      "Square of : 121 is 14641\n",
      "Square of : 123 is 15129\n",
      "Square of : 125 is 15625\n",
      "Square of : 127 is 16129\n",
      "Square of : 129 is 16641\n",
      "Square of : 131 is 17161\n",
      "Square of : 133 is 17689\n",
      "Square of : 135 is 18225\n",
      "Square of : 137 is 18769\n",
      "Square of : 139 is 19321\n",
      "Square of : 141 is 19881\n",
      "Square of : 143 is 20449\n",
      "Square of : 145 is 21025\n",
      "Square of : 147 is 21609\n",
      "Square of : 149 is 22201\n",
      "Square of : 151 is 22801\n",
      "Square of : 153 is 23409\n",
      "Square of : 155 is 24025\n",
      "Square of : 157 is 24649\n",
      "Square of : 159 is 25281\n",
      "Square of : 161 is 25921\n",
      "Square of : 163 is 26569\n",
      "Square of : 165 is 27225\n",
      "Square of : 167 is 27889\n",
      "Square of : 169 is 28561\n",
      "Square of : 171 is 29241\n",
      "Square of : 173 is 29929\n",
      "Square of : 175 is 30625\n",
      "Square of : 177 is 31329\n",
      "Square of : 179 is 32041\n",
      "Square of : 181 is 32761\n",
      "Square of : 183 is 33489\n",
      "Square of : 185 is 34225\n",
      "Square of : 187 is 34969\n",
      "Square of : 189 is 35721\n",
      "Square of : 191 is 36481\n",
      "Square of : 193 is 37249\n",
      "Square of : 195 is 38025\n",
      "Square of : 197 is 38809\n",
      "Square of : 199 is 39601\n"
     ]
    }
   ],
   "source": [
    "# Exercise 3: Squares of Even/Odd Numbers\n",
    "\n",
    "# Choice: Even or Odd\n",
    "user_unput = input('Enter Even Or Odd to get squares : ')\n",
    "\n",
    "# Loop through the range\n",
    "for i in range(100, 200+1):\n",
    "    # Check Even Or Odd\n",
    "    if user_unput == 'Even':\n",
    "          if i % 2 ==0:\n",
    "             print('Square of :',i,'is',i**2)\n",
    "    elif user_unput == 'Odd':\n",
    "          if i % 2 !=0:\n",
    "               print('Square of :',i,'is',i**2)"
   ]
  },
  {
   "cell_type": "code",
   "execution_count": 25,
   "id": "d2b13394-67d2-45c7-82ce-f6373f9ca35c",
   "metadata": {},
   "outputs": [
    {
     "name": "stdin",
     "output_type": "stream",
     "text": [
      "Enter a text : hello how are u\n"
     ]
    },
    {
     "name": "stdout",
     "output_type": "stream",
     "text": [
      "hello : 1\n",
      "how : 1\n",
      "are : 1\n",
      "u : 1\n"
     ]
    }
   ],
   "source": [
    "# Exercise 4: Word counter\n",
    "\n",
    "text = input(\"Enter a text :\")\n",
    "\n",
    "# Split text into words\n",
    "words = text.split()\n",
    "\n",
    "# Create a dictionary to count words\n",
    "word_count = {}\n",
    "\n",
    "# Count occurrences thorough loop\n",
    "for word in words:\n",
    "    if word in word_count:\n",
    "        word_count[word] += 1\n",
    "    else:\n",
    "        word_count[word] = 1\n",
    "\n",
    "# Print the counts\n",
    "for word, count in word_count.items():\n",
    "    print(word,':',count)"
   ]
  },
  {
   "cell_type": "code",
   "execution_count": null,
   "id": "c8e11274-4a78-407c-a7dd-38d0536f1d34",
   "metadata": {},
   "outputs": [],
   "source": [
    "# Exercise 5: Check for Palindrome\n",
    "\n",
    "text = input(\"Enter a string: \")\n",
    "\n",
    "# Reverse the string\n",
    "reversed_text = text[::-1]\n",
    "\n",
    "# Check if it's a palindrome\n",
    "if text == reversed_text:\n",
    "    print(text,\"is a palindrome!\")\n",
    "else:\n",
    "    print(text,\"is not a palindrome.\")"
   ]
  },
  {
   "cell_type": "code",
   "execution_count": null,
   "id": "259fea84-3cf4-4089-94b4-695081b91150",
   "metadata": {},
   "outputs": [],
   "source": []
  }
 ],
 "metadata": {
  "kernelspec": {
   "display_name": "Python [conda env:base] *",
   "language": "python",
   "name": "conda-base-py"
  },
  "language_info": {
   "codemirror_mode": {
    "name": "ipython",
    "version": 3
   },
   "file_extension": ".py",
   "mimetype": "text/x-python",
   "name": "python",
   "nbconvert_exporter": "python",
   "pygments_lexer": "ipython3",
   "version": "3.13.5"
  }
 },
 "nbformat": 4,
 "nbformat_minor": 5
}
