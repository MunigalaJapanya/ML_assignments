{
 "cells": [
  {
   "cell_type": "code",
   "execution_count": 1,
   "id": "13468514-9f4f-41f6-bd01-666d1101cd3f",
   "metadata": {},
   "outputs": [
    {
     "name": "stdout",
     "output_type": "stream",
     "text": [
      "99% CI: (1.0902, 1.3871)\n"
     ]
    }
   ],
   "source": [
    "import numpy as np\n",
    "from scipy.stats import t\n",
    "# Given data\n",
    "data = [1.13, 1.55, 1.43, 0.92, 1.25, 1.36, 1.32, 0.85, 1.07, 1.48, \n",
    "        1.20, 1.33, 1.18, 1.22, 1.29]\n",
    "#calculating sample statistics\n",
    "n = len(data)\n",
    "mean = np.mean(data)\n",
    "std = np.std(data, ddof=1)\n",
    "\n",
    "t_val = t.ppf(0.995, df=n-1) # 99% CI → 0.995\n",
    "\n",
    "margin = t_val * (std / np.sqrt(n))\n",
    "print(f\"99% confidence interval for the mean number of characters printed before the print-head fails: ({mean - margin:.4f}, {mean + margin:.4f})\")"
   ]
  },
  {
   "cell_type": "code",
   "execution_count": 4,
   "id": "929944e5-d8c1-4744-ac64-a58cb7ef3df4",
   "metadata": {},
   "outputs": [
    {
     "data": {
      "text/plain": [
       "'\\n1)step:-Collect all the sample data\\n2)step:-Determine the confidence level(given 99% confidence level)\\n3)step:-Use the T-distribution because(sample size is(n<30))\\n4)step:- find the t-critical value from the (t.ppf(0.995, df=n-1) degrees of freedom (n-1)=(15-1)= 14\\n5)step:-compute margin of errors \\n6)step:-Construct the confidence interval(Confidence\\xa0Interval= x bar +(or)-Margin of errors\\n\\n'"
      ]
     },
     "execution_count": 4,
     "metadata": {},
     "output_type": "execute_result"
    }
   ],
   "source": [
    "'''\n",
    "1)step:-Collect all the sample data\n",
    "2)step:-Determine the confidence level(given 99% confidence level)\n",
    "3)step:-Use the T-distribution because(sample size is(n<30))\n",
    "4)step:- find the t-critical value from the (t.ppf(0.995, df=n-1) degrees of freedom (n-1)=(15-1)= 14\n",
    "5)step:-compute margin of errors \n",
    "6)step:-Construct the confidence interval(Confidence Interval= x bar +(or)-Margin of errors\n",
    "\n",
    "'''\n",
    "\n",
    "                                       "
   ]
  },
  {
   "cell_type": "code",
   "execution_count": 7,
   "id": "2a27de16-c8ae-43b3-8aa2-6c6f5c4d6b0d",
   "metadata": {},
   "outputs": [
    {
     "name": "stdout",
     "output_type": "stream",
     "text": [
      "99% CI (σ known): (1.1057, 1.3717)\n"
     ]
    }
   ],
   "source": [
    "import numpy as np\n",
    "from scipy.stats import norm\n",
    "\n",
    "data = [1.13, 1.55, 1.43, 0.92, 1.25, 1.36, 1.32, 0.85, 1.07, 1.48, \n",
    "        1.20, 1.33, 1.18, 1.22, 1.29]\n",
    "\n",
    "mean = np.mean(data)\n",
    "sigma = 0.2\n",
    "n = len(data)\n",
    "\n",
    "z_val = norm.ppf(0.995)  # 99% confidence\n",
    "margin = z_val * (sigma / np.sqrt(n))\n",
    "\n",
    "print(f\"99% CI (σ known): ({mean - margin:.4f}, {mean + margin:.4f})\")\n"
   ]
  },
  {
   "cell_type": "code",
   "execution_count": null,
   "id": "8286c24a-260f-4bda-9ec7-d210adb0da3d",
   "metadata": {},
   "outputs": [],
   "source": [
    "99% CI (σ known): (1.1057, 1.3717)\n"
   ]
  }
 ],
 "metadata": {
  "kernelspec": {
   "display_name": "Python [conda env:base] *",
   "language": "python",
   "name": "conda-base-py"
  },
  "language_info": {
   "codemirror_mode": {
    "name": "ipython",
    "version": 3
   },
   "file_extension": ".py",
   "mimetype": "text/x-python",
   "name": "python",
   "nbconvert_exporter": "python",
   "pygments_lexer": "ipython3",
   "version": "3.13.5"
  }
 },
 "nbformat": 4,
 "nbformat_minor": 5
}
